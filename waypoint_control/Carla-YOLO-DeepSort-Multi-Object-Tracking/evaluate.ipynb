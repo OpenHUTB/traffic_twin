{
 "cells": [
  {
   "cell_type": "code",
   "execution_count": 1,
   "id": "b0316db2-10b3-40a6-bb6e-9ceda4ef99e7",
   "metadata": {},
   "outputs": [
    {
     "name": "stdout",
     "output_type": "stream",
     "text": [
      "MOTA: 0.21974522292993626\n",
      "MOTP: 0.27530147356762136\n"
     ]
    }
   ],
   "source": [
    "# general script \n",
    "\n",
    "import json\n",
    "from collections import defaultdict\n",
    "from scipy.optimize import linear_sum_assignment\n",
    "import numpy as np\n",
    "\n",
    "# Load ground truth and DeepSORT JSON files\n",
    "with open('groundtruth.json', 'r') as f:\n",
    "    gt_data = json.load(f)\n",
    "with open('hypo.json', 'r') as f:\n",
    "    ds_data = json.load(f)\n",
    "\n",
    "# Initialize variables for calculating MOTA and MOTP metrics\n",
    "num_matches = 0\n",
    "num_misses = 0\n",
    "num_false_positives = 0\n",
    "num_mismatches = 0\n",
    "total_distance = 0\n",
    "\n",
    "# Iterate through each frame of data\n",
    "for frame in range(len(gt_data[0]['frames'])):\n",
    "    # Get ground truth and DeepSORT data for the current frame\n",
    "    gt_frame = gt_data[0]['frames'][frame]\n",
    "    ds_frame = ds_data[0]['frames'][frame]\n",
    "\n",
    "    # Get the ground truth and DeepSORT bounding boxes for the current frame\n",
    "    \n",
    "    gt_boxes = [[d['x'], d['y'], d['width'], d['height']] for d in gt_frame['annotations']]\n",
    "    ds_boxes = [[d['x'], d['y'], d['width'], d['height']] for d in ds_frame['hypotheses']]\n",
    "\n",
    "    # Calculate the intersection over union (IOU) between ground truth and DeepSORT bounding boxes\n",
    "    iou_matrix = []\n",
    "    for gt_box in gt_boxes:\n",
    "        iou_row = []\n",
    "        for ds_box in ds_boxes:\n",
    "            x1, y1, w1, h1 = gt_box\n",
    "            x2, y2, w2, h2 = ds_box\n",
    "            left = max(x1, x2)\n",
    "            top = max(y1, y2)\n",
    "            right = min(x1 + w1, x2 + w2)\n",
    "            bottom = min(y1 + h1, y2 + h2)\n",
    "            if right < left or bottom < top:\n",
    "                iou_row.append(0.0)\n",
    "                continue\n",
    "            intersection_area = (right - left) * (bottom - top)\n",
    "            \n",
    "            #bounding box area\n",
    "            bb1_area = w1 * h1\n",
    "            bb2_area = w2 * h2\n",
    "            \n",
    "            iou_row.append(intersection_area / float(bb1_area + bb2_area - intersection_area))\n",
    "            \n",
    "        iou_matrix.append(iou_row)\n",
    "\n",
    "    # Find matches between ground truth and DeepSORT bounding boxes using the Hungarian algorithm\n",
    "    if len(gt_boxes) >0 and len(ds_boxes) > 0:\n",
    "        \n",
    "        \n",
    "        row_ind, col_ind = linear_sum_assignment(1 - np.array(iou_matrix))\n",
    "        matches = [(row_ind[i], col_ind[i]) for i in range(len(row_ind)) if iou_matrix[row_ind[i]][col_ind[i]] > 0.5]\n",
    "    else:\n",
    "        matches= []\n",
    "    # Update MOTA and MOTP metrics with the current frame data\n",
    "    num_matches += len(matches)\n",
    "    num_misses += len(gt_boxes) - len(matches)\n",
    "    num_false_positives += len(ds_boxes) - len(matches)\n",
    "    total_distance += sum([iou_matrix[i][j] for i, j in matches])\n",
    "\n",
    "\n",
    "# Calculate the final MOTA and MOTP values\n",
    "mota = 1 - (num_misses + num_false_positives + num_mismatches) / sum([len(frame['annotations']) for frame in gt_data[0]['frames']])\n",
    "motp = 1 - (total_distance / num_matches)\n",
    "\n",
    "print(f'MOTA: {mota}')\n",
    "print(f'MOTP: {motp}')\n"
   ]
  },
  {
   "cell_type": "code",
   "execution_count": null,
   "id": "51afe597-b770-45c3-9b36-09e2933380da",
   "metadata": {},
   "outputs": [],
   "source": []
  },
  {
   "cell_type": "code",
   "execution_count": null,
   "id": "3ab99227-6ed9-4a06-ae43-cb5dcf4c64fa",
   "metadata": {},
   "outputs": [],
   "source": []
  },
  {
   "cell_type": "code",
   "execution_count": null,
   "id": "782edf5a-cec3-49d4-be87-4ec21258ac45",
   "metadata": {},
   "outputs": [],
   "source": []
  },
  {
   "cell_type": "code",
   "execution_count": null,
   "id": "0d125a32-c8d2-4763-be64-069623cb23a6",
   "metadata": {},
   "outputs": [],
   "source": []
  },
  {
   "cell_type": "code",
   "execution_count": null,
   "id": "721113b3-a4b1-4117-9e7a-b2118b165439",
   "metadata": {},
   "outputs": [],
   "source": []
  },
  {
   "cell_type": "code",
   "execution_count": null,
   "id": "46b5383a-a4af-4533-acae-0a21f2ecff8d",
   "metadata": {},
   "outputs": [],
   "source": []
  },
  {
   "cell_type": "code",
   "execution_count": null,
   "id": "91d5d98d-d7a5-4c10-bff2-aac4b02dff28",
   "metadata": {},
   "outputs": [],
   "source": []
  },
  {
   "cell_type": "code",
   "execution_count": null,
   "id": "b884dd9d-4e58-4b80-b4bc-e1d84ebd7039",
   "metadata": {},
   "outputs": [],
   "source": []
  },
  {
   "cell_type": "code",
   "execution_count": null,
   "id": "9826c8f2-fc02-46f2-8360-f5e128854f80",
   "metadata": {},
   "outputs": [],
   "source": []
  },
  {
   "cell_type": "code",
   "execution_count": null,
   "id": "f96a38e3-43b1-4cc2-8be3-8a1a9bb92c5d",
   "metadata": {},
   "outputs": [],
   "source": []
  },
  {
   "cell_type": "code",
   "execution_count": null,
   "id": "b9927d45-4fce-4573-b057-012cbd4deffc",
   "metadata": {},
   "outputs": [],
   "source": []
  },
  {
   "cell_type": "code",
   "execution_count": null,
   "id": "7df49ba0-e8f5-4853-b3bb-3570dd9d0079",
   "metadata": {},
   "outputs": [],
   "source": []
  },
  {
   "cell_type": "code",
   "execution_count": null,
   "id": "aa88154c-f00e-4037-b147-7d41e555feea",
   "metadata": {},
   "outputs": [],
   "source": []
  },
  {
   "cell_type": "code",
   "execution_count": null,
   "id": "4b8ca3e0-90c3-4b49-81e3-a9bef0208832",
   "metadata": {},
   "outputs": [],
   "source": []
  },
  {
   "cell_type": "code",
   "execution_count": null,
   "id": "e01da098-4017-4c52-abcd-eaa162936d3e",
   "metadata": {},
   "outputs": [],
   "source": []
  },
  {
   "cell_type": "code",
   "execution_count": null,
   "id": "74c6e103-7193-474e-9548-809aa3e7b181",
   "metadata": {},
   "outputs": [],
   "source": []
  },
  {
   "cell_type": "code",
   "execution_count": null,
   "id": "1f49913c-572f-4281-8c2b-91d66f5a7270",
   "metadata": {},
   "outputs": [],
   "source": []
  },
  {
   "cell_type": "code",
   "execution_count": null,
   "id": "2477f5c0-ddcd-4f5b-a512-8ee862d8c741",
   "metadata": {},
   "outputs": [],
   "source": []
  },
  {
   "cell_type": "code",
   "execution_count": null,
   "id": "6603ae2a-9cee-485f-a09f-b7798a2f598e",
   "metadata": {},
   "outputs": [],
   "source": []
  },
  {
   "cell_type": "code",
   "execution_count": null,
   "id": "c4b9d69a-9c10-4ae9-8aac-b48b3908396e",
   "metadata": {},
   "outputs": [],
   "source": []
  },
  {
   "cell_type": "code",
   "execution_count": null,
   "id": "366f1689-9c40-4b92-be6c-1bc99961d3bb",
   "metadata": {},
   "outputs": [],
   "source": []
  },
  {
   "cell_type": "code",
   "execution_count": null,
   "id": "42ea5b1e-367b-4784-83cd-083fe1a9a164",
   "metadata": {},
   "outputs": [],
   "source": []
  },
  {
   "cell_type": "code",
   "execution_count": null,
   "id": "b6751835-42b1-4468-a02b-da2d6645afc3",
   "metadata": {},
   "outputs": [],
   "source": []
  }
 ],
 "metadata": {
  "kernelspec": {
   "display_name": "Python 3 (ipykernel)",
   "language": "python",
   "name": "python3"
  },
  "language_info": {
   "codemirror_mode": {
    "name": "ipython",
    "version": 3
   },
   "file_extension": ".py",
   "mimetype": "text/x-python",
   "name": "python",
   "nbconvert_exporter": "python",
   "pygments_lexer": "ipython3",
   "version": "3.8.20"
  }
 },
 "nbformat": 4,
 "nbformat_minor": 5
}
